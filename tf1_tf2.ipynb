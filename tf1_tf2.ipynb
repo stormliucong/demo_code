{
  "nbformat": 4,
  "nbformat_minor": 0,
  "metadata": {
    "colab": {
      "name": "tf1-tf2.ipynb",
      "provenance": [],
      "authorship_tag": "ABX9TyNGDEsJPO0KToQF4fMjhev5",
      "include_colab_link": true
    },
    "kernelspec": {
      "name": "python3",
      "display_name": "Python 3"
    }
  },
  "cells": [
    {
      "cell_type": "markdown",
      "metadata": {
        "id": "view-in-github",
        "colab_type": "text"
      },
      "source": [
        "<a href=\"https://colab.research.google.com/github/stormliucong/demo_code/blob/master/tf1_tf2.ipynb\" target=\"_parent\"><img src=\"https://colab.research.google.com/assets/colab-badge.svg\" alt=\"Open In Colab\"/></a>"
      ]
    },
    {
      "cell_type": "code",
      "metadata": {
        "id": "Aa3PCgU8nYLM",
        "colab_type": "code",
        "colab": {
          "base_uri": "https://localhost:8080/",
          "height": 51
        },
        "outputId": "e86483a4-f532-433c-c6de-f16c3e90b712"
      },
      "source": [
        "# this is a notebook to see the change from tensorflow 1 to tensorflow 2\n",
        "%reset\n",
        "import tensorflow as tf\n",
        "import numpy as np\n",
        "print(tf.__version__)\n",
        "def generate_dataset():\n",
        "  x_batch = np.linspace(0, 2, 100)\n",
        "  y_batch = 1.5 * x_batch + np.random.randn(*x_batch.shape) * 0.2 + 0.5\n",
        "  return x_batch, y_batch"
      ],
      "execution_count": 180,
      "outputs": [
        {
          "output_type": "stream",
          "text": [
            "Once deleted, variables cannot be recovered. Proceed (y/[n])? y\n"
          ],
          "name": "stdout"
        },
        {
          "output_type": "execute_result",
          "data": {
            "text/plain": [
              "'1.15.0'"
            ]
          },
          "metadata": {
            "tags": []
          },
          "execution_count": 180
        }
      ]
    },
    {
      "cell_type": "code",
      "metadata": {
        "id": "H8Qg2CPH5Lx1",
        "colab_type": "code",
        "colab": {}
      },
      "source": [
        "def linear_regression():\n",
        "  x = tf.placeholder(tf.float32, shape=(None, ), name='x')\n",
        "  y = tf.placeholder(tf.float32, shape=(None, ), name='y')\n",
        "\n",
        "  with tf.variable_scope('lreg',reuse=tf.AUTO_REUSE,initializer=tf.constant_initializer(0)) as scope:\n",
        "    # w = tf.Variable(np.random.normal(), name='w')\n",
        "    # b = tf.Variable(np.random.normal(), name='b')\n",
        "    w = tf.get_variable('w',shape=(1))\n",
        "    b = tf.get_variable('b',shape=(1))\n",
        "    wx = tf.multiply(w,x)\n",
        "    y_pred = tf.add(wx, b)\n",
        "\n",
        "    loss = tf.reduce_mean(tf.square(y_pred - y))\n",
        "\n",
        "  return x, y, y_pred, loss"
      ],
      "execution_count": 0,
      "outputs": []
    },
    {
      "cell_type": "code",
      "metadata": {
        "id": "r3DfyYOD8Qko",
        "colab_type": "code",
        "colab": {
          "base_uri": "https://localhost:8080/",
          "height": 527
        },
        "outputId": "b9de6579-2e65-4207-c9ad-8d584b5868c5"
      },
      "source": [
        "tf.reset_default_graph()\n",
        "x_batch, y_batch = generate_dataset()\n",
        "x, y, y_pred, loss = linear_regression()\n",
        "\n",
        "optimizer = tf.train.GradientDescentOptimizer(0.1)\n",
        "train_op = optimizer.minimize(loss)\n",
        "\n",
        "with tf.Session() as session:\n",
        "  session.run(tf.global_variables_initializer())\n",
        "  feed_dict = {x: x_batch, y: y_batch}\n",
        "\t\t\n",
        "  for i in range(30):\n",
        "    session.run(train_op, feed_dict)\n",
        "    print(i, \"loss:\", loss.eval(feed_dict))"
      ],
      "execution_count": 195,
      "outputs": [
        {
          "output_type": "stream",
          "text": [
            "0 loss: 1.6126059\n",
            "1 loss: 0.5734125\n",
            "2 loss: 0.24188152\n",
            "3 loss: 0.13487782\n",
            "4 loss: 0.09918811\n",
            "5 loss: 0.08622033\n",
            "6 loss: 0.080559015\n",
            "7 loss: 0.07730961\n",
            "8 loss: 0.07491416\n",
            "9 loss: 0.07287321\n",
            "10 loss: 0.07102322\n",
            "11 loss: 0.0693075\n",
            "12 loss: 0.0677036\n",
            "13 loss: 0.06620012\n",
            "14 loss: 0.06478946\n",
            "15 loss: 0.063465506\n",
            "16 loss: 0.062222775\n",
            "17 loss: 0.061056253\n",
            "18 loss: 0.05996125\n",
            "19 loss: 0.058933362\n",
            "20 loss: 0.0579685\n",
            "21 loss: 0.057062782\n",
            "22 loss: 0.05621258\n",
            "23 loss: 0.0554145\n",
            "24 loss: 0.054665364\n",
            "25 loss: 0.053962134\n",
            "26 loss: 0.053302016\n",
            "27 loss: 0.05268237\n",
            "28 loss: 0.052100707\n",
            "29 loss: 0.051554702\n"
          ],
          "name": "stdout"
        }
      ]
    },
    {
      "cell_type": "code",
      "metadata": {
        "id": "uOPaFMTqA9PL",
        "colab_type": "code",
        "colab": {
          "base_uri": "https://localhost:8080/",
          "height": 51
        },
        "outputId": "3dec9f9d-1a45-4f6c-ecfb-9646f17964a9"
      },
      "source": [
        "%reset\n",
        "from __future__ import absolute_import, division, print_function, unicode_literals\n",
        "\n",
        "try:\n",
        "  # %tensorflow_version only exists in Colab.\n",
        "  %tensorflow_version 2.x\n",
        "except Exception:\n",
        "  pass\n",
        "\n",
        "import tensorflow as tf\n",
        "print(tf.__version__)\n",
        "import numpy as np\n",
        "def generate_dataset():\n",
        "  x_batch = np.linspace(0, 2, 100)\n",
        "  y_batch = 1.5 * x_batch + np.random.randn(*x_batch.shape) * 0.2 + 0.5\n",
        "  return x_batch, y_batch"
      ],
      "execution_count": 19,
      "outputs": [
        {
          "output_type": "stream",
          "text": [
            "Once deleted, variables cannot be recovered. Proceed (y/[n])? y\n",
            "2.1.0\n"
          ],
          "name": "stdout"
        }
      ]
    },
    {
      "cell_type": "code",
      "metadata": {
        "id": "Ywk1AsD7GvjS",
        "colab_type": "code",
        "colab": {
          "base_uri": "https://localhost:8080/",
          "height": 181
        },
        "outputId": "d040923e-e127-43d2-9f29-bcadbc0bdc2a"
      },
      "source": [
        "# Tensorflow version 2.0 doesn't support get_variable().\n",
        "w = tf.get_variable('w',shape=(1))\n",
        "b = tf.get_variable('b',shape=(1))"
      ],
      "execution_count": 3,
      "outputs": [
        {
          "output_type": "error",
          "ename": "AttributeError",
          "evalue": "ignored",
          "traceback": [
            "\u001b[0;31m---------------------------------------------------------------------------\u001b[0m",
            "\u001b[0;31mAttributeError\u001b[0m                            Traceback (most recent call last)",
            "\u001b[0;32m<ipython-input-3-503197ce00dd>\u001b[0m in \u001b[0;36m<module>\u001b[0;34m()\u001b[0m\n\u001b[0;32m----> 1\u001b[0;31m \u001b[0mw\u001b[0m \u001b[0;34m=\u001b[0m \u001b[0mtf\u001b[0m\u001b[0;34m.\u001b[0m\u001b[0mget_variable\u001b[0m\u001b[0;34m(\u001b[0m\u001b[0;34m'w'\u001b[0m\u001b[0;34m,\u001b[0m\u001b[0mshape\u001b[0m\u001b[0;34m=\u001b[0m\u001b[0;34m(\u001b[0m\u001b[0;36m1\u001b[0m\u001b[0;34m)\u001b[0m\u001b[0;34m)\u001b[0m\u001b[0;34m\u001b[0m\u001b[0;34m\u001b[0m\u001b[0m\n\u001b[0m\u001b[1;32m      2\u001b[0m \u001b[0mb\u001b[0m \u001b[0;34m=\u001b[0m \u001b[0mtf\u001b[0m\u001b[0;34m.\u001b[0m\u001b[0mget_variable\u001b[0m\u001b[0;34m(\u001b[0m\u001b[0;34m'b'\u001b[0m\u001b[0;34m,\u001b[0m\u001b[0mshape\u001b[0m\u001b[0;34m=\u001b[0m\u001b[0;34m(\u001b[0m\u001b[0;36m1\u001b[0m\u001b[0;34m)\u001b[0m\u001b[0;34m)\u001b[0m\u001b[0;34m\u001b[0m\u001b[0;34m\u001b[0m\u001b[0m\n",
            "\u001b[0;31mAttributeError\u001b[0m: module 'tensorflow' has no attribute 'get_variable'"
          ]
        }
      ]
    },
    {
      "cell_type": "code",
      "metadata": {
        "id": "HUbqAnITHeQD",
        "colab_type": "code",
        "colab": {
          "base_uri": "https://localhost:8080/",
          "height": 527
        },
        "outputId": "31d77e83-2e94-4232-ce24-de7cda895b7d"
      },
      "source": [
        "w = tf.Variable(tf.ones(shape=(1)),name='w')\n",
        "b = tf.Variable(tf.zeros(shape=(1)),name='b')\n",
        "x_batch, y_batch = generate_dataset()\n",
        "optimizer = tf.optimizers.Adam(0.1)\n",
        "for i in range(30):\n",
        "  with tf.GradientTape() as tape:\n",
        "    wx = tf.multiply(w,x_batch)\n",
        "    y_pred = tf.add(wx, b)\n",
        "    loss = tf.reduce_mean(tf.square(y_pred - y_batch))\n",
        "    print(i, \"loss:\", loss)\n",
        "    gradients = tape.gradient(loss, [w,b])\n",
        "    optimizer.apply_gradients(zip(gradients, [w,b]))"
      ],
      "execution_count": 23,
      "outputs": [
        {
          "output_type": "stream",
          "text": [
            "0 loss: tf.Tensor(1.1093234, shape=(), dtype=float32)\n",
            "1 loss: tf.Tensor(0.72312295, shape=(), dtype=float32)\n",
            "2 loss: tf.Tensor(0.42682263, shape=(), dtype=float32)\n",
            "3 loss: tf.Tensor(0.21962729, shape=(), dtype=float32)\n",
            "4 loss: tf.Tensor(0.096935615, shape=(), dtype=float32)\n",
            "5 loss: tf.Tensor(0.04858203, shape=(), dtype=float32)\n",
            "6 loss: tf.Tensor(0.0576664, shape=(), dtype=float32)\n",
            "7 loss: tf.Tensor(0.10152186, shape=(), dtype=float32)\n",
            "8 loss: tf.Tensor(0.15589307, shape=(), dtype=float32)\n",
            "9 loss: tf.Tensor(0.20083752, shape=(), dtype=float32)\n",
            "10 loss: tf.Tensor(0.22482608, shape=(), dtype=float32)\n",
            "11 loss: tf.Tensor(0.2250766, shape=(), dtype=float32)\n",
            "12 loss: tf.Tensor(0.20520386, shape=(), dtype=float32)\n",
            "13 loss: tf.Tensor(0.17223029, shape=(), dtype=float32)\n",
            "14 loss: tf.Tensor(0.13413367, shape=(), dtype=float32)\n",
            "15 loss: tf.Tensor(0.098172605, shape=(), dtype=float32)\n",
            "16 loss: tf.Tensor(0.06984456, shape=(), dtype=float32)\n",
            "17 loss: tf.Tensor(0.052314196, shape=(), dtype=float32)\n",
            "18 loss: tf.Tensor(0.046239242, shape=(), dtype=float32)\n",
            "19 loss: tf.Tensor(0.04998981, shape=(), dtype=float32)\n",
            "20 loss: tf.Tensor(0.06025447, shape=(), dtype=float32)\n",
            "21 loss: tf.Tensor(0.072941445, shape=(), dtype=float32)\n",
            "22 loss: tf.Tensor(0.084171206, shape=(), dtype=float32)\n",
            "23 loss: tf.Tensor(0.09110331, shape=(), dtype=float32)\n",
            "24 loss: tf.Tensor(0.09239572, shape=(), dtype=float32)\n",
            "25 loss: tf.Tensor(0.08823745, shape=(), dtype=float32)\n",
            "26 loss: tf.Tensor(0.08002885, shape=(), dtype=float32)\n",
            "27 loss: tf.Tensor(0.06986027, shape=(), dtype=float32)\n",
            "28 loss: tf.Tensor(0.059941053, shape=(), dtype=float32)\n",
            "29 loss: tf.Tensor(0.052101664, shape=(), dtype=float32)\n"
          ],
          "name": "stdout"
        }
      ]
    },
    {
      "cell_type": "code",
      "metadata": {
        "id": "NTtiEtCkPCiG",
        "colab_type": "code",
        "colab": {}
      },
      "source": [
        ""
      ],
      "execution_count": 0,
      "outputs": []
    }
  ]
}